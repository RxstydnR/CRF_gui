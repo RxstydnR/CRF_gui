{
 "cells": [
  {
   "cell_type": "markdown",
   "metadata": {},
   "source": [
    "- To show GUI in Jupyter lab, need to install additional package.  \n",
    "  See https://qiita.com/hyt-sasaki/items/2a940cd7387c408988be.\n",
    "\n",
    "```bash\n",
    "jupyter labextension install @jupyter-widgets/jupyterlab-manager\n",
    "```\n",
    "\n",
    "- If you use JupyterNotebook run below.\n",
    "\n",
    "```bash\n",
    "jupyter nbextension enable --py widgetsnbextension\n",
    "```"
   ]
  },
  {
   "cell_type": "code",
   "execution_count": 4,
   "metadata": {},
   "outputs": [],
   "source": [
    "import glob\n",
    "import pandas as pd\n",
    "import numpy as np\n",
    "import matplotlib.pyplot as plt\n",
    "from PIL import Image\n",
    "%matplotlib inline\n",
    "\n",
    "from CRF import crf\n",
    "from ipywidgets import interact,IntSlider,FloatSlider,BoundedIntText"
   ]
  },
  {
   "cell_type": "markdown",
   "metadata": {},
   "source": [
    "### Get data"
   ]
  },
  {
   "cell_type": "markdown",
   "metadata": {},
   "source": [
    "X: RGB image  \n",
    "Y: Binary segmentation mask"
   ]
  },
  {
   "cell_type": "code",
   "execution_count": 6,
   "metadata": {},
   "outputs": [
    {
     "data": {
      "text/plain": [
       "((599, 256, 256, 3), (599, 256, 256))"
      ]
     },
     "execution_count": 6,
     "metadata": {},
     "output_type": "execute_result"
    }
   ],
   "source": [
    "X = np.array([np.array(Image.open(img_path).convert('RGB')) for img_path in sorted(glob.glob(\"data/original/*\"))])\n",
    "Y = np.array([np.array(Image.open(img_path).convert('L')) for img_path in sorted(glob.glob(\"data/binary/*\"))])\n",
    "\n",
    "Y = np.where(Y<=0.5,0,255)\n",
    "X.shape,Y.shape"
   ]
  },
  {
   "cell_type": "markdown",
   "metadata": {},
   "source": [
    "### Make GUI"
   ]
  },
  {
   "cell_type": "code",
   "execution_count": 15,
   "metadata": {},
   "outputs": [],
   "source": [
    "gt_prob_slider = FloatSlider(value=0.8, min=0.1, max=1, step=0.05, description='gt_prob:')\n",
    "gau_sxy_slider = IntSlider(value=3, min=1, max=100, step=1, description='gau_sxy:')\n",
    "gau_compat_slider = IntSlider(value=3, min=1, max=10, step=1, description='gau_compat:')\n",
    "bil_sxy_slider = IntSlider(value=80, min=1, max=100, step=1, description='bil_sxy:')\n",
    "bil_srgb_slider = IntSlider(value=13, min=1, max=25, step=1, description='bil_srgb:')\n",
    "bil_compat_slider = IntSlider(value=10, min=1, max=20, step=1, description='bil_compat:')\n",
    "n_inference_slider = IntSlider(value=5, min=0, max=10, step=1, description='n_inference:')\n",
    "image_number_text = BoundedIntText(value=0, min=0, max=len(X)-1, step=1, description='img num:',)"
   ]
  },
  {
   "cell_type": "code",
   "execution_count": 13,
   "metadata": {},
   "outputs": [],
   "source": [
    "def show_result(x,y,crfimage):\n",
    "    \n",
    "    plt.figure(figsize=(14,10))\n",
    "    plt.subplot(131)\n",
    "    plt.imshow(x)\n",
    "    plt.title(\"origin\")\n",
    "    plt.axis(\"off\")\n",
    "    \n",
    "    plt.subplot(132)\n",
    "    plt.imshow(y,cmap=\"gray\")\n",
    "    plt.title(\"before crf\")\n",
    "    plt.axis(\"off\")\n",
    "    \n",
    "    plt.subplot(133)\n",
    "    plt.imshow(crfimage)\n",
    "    plt.title(\"after crf\")\n",
    "    plt.axis(\"off\")\n",
    "    plt.show()\n",
    "    \n",
    "    return\n",
    "\n",
    "\n",
    "def interactive_CRF(image_number, gt_prob, n_inference, gau_sxy, gau_compat, bil_sxy, bil_srgb, bil_compat):\n",
    "    \n",
    "    x=X[image_number]\n",
    "    y=Y[image_number]\n",
    "    \n",
    "    try:\n",
    "        crfimage = crf(x,y,gt_prob, n_inference, gau_sxy, gau_compat, bil_sxy, bil_srgb, bil_compat) # return a RGB image\n",
    "        # return a RGB image\n",
    "    except: \n",
    "        crfimage = np.zeros(y.shape, dtype=np.uint8)\n",
    "\n",
    "    show_result(x,y,crfimage)\n",
    "    \n",
    "    return "
   ]
  },
  {
   "cell_type": "markdown",
   "metadata": {},
   "source": [
    "### Activate interactive function"
   ]
  },
  {
   "cell_type": "code",
   "execution_count": 17,
   "metadata": {},
   "outputs": [
    {
     "data": {
      "application/vnd.jupyter.widget-view+json": {
       "model_id": "22689c75fce64f96a7e180ac96bb243c",
       "version_major": 2,
       "version_minor": 0
      },
      "text/plain": [
       "interactive(children=(BoundedIntText(value=0, description='img num:', max=598), FloatSlider(value=0.8, descrip…"
      ]
     },
     "metadata": {},
     "output_type": "display_data"
    },
    {
     "data": {
      "text/plain": [
       "<function __main__.interactive_CRF(image_number, gt_prob, n_inference, gau_sxy, gau_compat, bil_sxy, bil_srgb, bil_compat)>"
      ]
     },
     "execution_count": 17,
     "metadata": {},
     "output_type": "execute_result"
    }
   ],
   "source": [
    "interact(interactive_CRF,\n",
    "         image_number = image_number_text,\n",
    "         gt_prob=gt_prob_slider, \n",
    "         n_inference=n_inference_slider,\n",
    "         gau_sxy=gau_sxy_slider, \n",
    "         gau_compat=gau_compat_slider, \n",
    "         bil_sxy=bil_sxy_slider, \n",
    "         bil_srgb=bil_srgb_slider, \n",
    "         bil_compat=bil_compat_slider,\n",
    "         )"
   ]
  },
  {
   "cell_type": "code",
   "execution_count": null,
   "metadata": {},
   "outputs": [],
   "source": []
  }
 ],
 "metadata": {
  "kernelspec": {
   "display_name": "Python 3",
   "language": "python",
   "name": "python3"
  },
  "language_info": {
   "codemirror_mode": {
    "name": "ipython",
    "version": 3
   },
   "file_extension": ".py",
   "mimetype": "text/x-python",
   "name": "python",
   "nbconvert_exporter": "python",
   "pygments_lexer": "ipython3",
   "version": "3.6.10"
  }
 },
 "nbformat": 4,
 "nbformat_minor": 4
}
